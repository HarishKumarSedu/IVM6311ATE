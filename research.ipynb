{
 "cells": [
  {
   "cell_type": "code",
   "execution_count": 251,
   "metadata": {},
   "outputs": [],
   "source": [
    "import pandas as pd \n",
    "data = pd.read_excel('IVM6311_Testing_scripts.xlsx', sheet_name='Reference')"
   ]
  },
  {
   "cell_type": "code",
   "execution_count": 252,
   "metadata": {},
   "outputs": [
    {
     "data": {
      "text/html": [
       "<div>\n",
       "<style scoped>\n",
       "    .dataframe tbody tr th:only-of-type {\n",
       "        vertical-align: middle;\n",
       "    }\n",
       "\n",
       "    .dataframe tbody tr th {\n",
       "        vertical-align: top;\n",
       "    }\n",
       "\n",
       "    .dataframe thead th {\n",
       "        text-align: right;\n",
       "    }\n",
       "</style>\n",
       "<table border=\"1\" class=\"dataframe\">\n",
       "  <thead>\n",
       "    <tr style=\"text-align: right;\">\n",
       "      <th></th>\n",
       "      <th>Parameter</th>\n",
       "      <th>Unnamed: 1</th>\n",
       "      <th>UVLO</th>\n",
       "      <th>VBGR_ADJ_TRIM</th>\n",
       "      <th>OUT_TEST_FRO_VVCO</th>\n",
       "      <th>OUT_TEST_FRO_IMSB</th>\n",
       "      <th>TSDN</th>\n",
       "      <th>REF_LDO</th>\n",
       "      <th>FRO_CLOCK</th>\n",
       "    </tr>\n",
       "  </thead>\n",
       "  <tbody>\n",
       "    <tr>\n",
       "      <th>0</th>\n",
       "      <td>NaN</td>\n",
       "      <td>NaN</td>\n",
       "      <td>VERIFIED/NOT VERIFIED</td>\n",
       "      <td>VERIFIED/NOT VERIFIED</td>\n",
       "      <td>VERIFIED/NOT VERIFIED</td>\n",
       "      <td>VERIFIED/NOT VERIFIED</td>\n",
       "      <td>VERIFIED/NOT VERIFIED</td>\n",
       "      <td>VERIFIED/NOT VERIFIED</td>\n",
       "      <td>VERIFIED/NOT VERIFIED</td>\n",
       "    </tr>\n",
       "    <tr>\n",
       "      <th>1</th>\n",
       "      <td>SL.NO</td>\n",
       "      <td>NaN</td>\n",
       "      <td>0</td>\n",
       "      <td>1</td>\n",
       "      <td>2</td>\n",
       "      <td>3</td>\n",
       "      <td>4</td>\n",
       "      <td>5</td>\n",
       "      <td>5</td>\n",
       "    </tr>\n",
       "    <tr>\n",
       "      <th>2</th>\n",
       "      <td>Priority</td>\n",
       "      <td>NaN</td>\n",
       "      <td>UVLO</td>\n",
       "      <td>VBGR_ADJ_TRIM</td>\n",
       "      <td>OUT_TEST_FRO_VVCO</td>\n",
       "      <td>OUT_TEST_FRO_IMSB</td>\n",
       "      <td>TSDN</td>\n",
       "      <td>REF_LDO</td>\n",
       "      <td>FRO_CLOCK</td>\n",
       "    </tr>\n",
       "    <tr>\n",
       "      <th>3</th>\n",
       "      <td>NaN</td>\n",
       "      <td>NaN</td>\n",
       "      <td>FORCE__VBAT__3.6V\\nFORCE__SDWN__1.8V\\n\\n0xFE_0...</td>\n",
       "      <td>Run__Startup\\nRun__Enable_Ana_Testpoint\\n\\n0xF...</td>\n",
       "      <td>Run__Startup                                  ...</td>\n",
       "      <td>Run__Startup                                  ...</td>\n",
       "      <td>Run__Startup\\nRun__Enable_Ana_Testpoint\\n\\n0xF...</td>\n",
       "      <td>Run_Startup\\nRun__Enable_Ana_Testpoint\\n\\n0xFE...</td>\n",
       "      <td>Run__Startup\\n\\n0xFE_0x01 \"Select page 1\"\\n0x0...</td>\n",
       "    </tr>\n",
       "    <tr>\n",
       "      <th>4</th>\n",
       "      <td>Final Test Limit</td>\n",
       "      <td>Min</td>\n",
       "      <td>NaN</td>\n",
       "      <td>1793</td>\n",
       "      <td>NaN</td>\n",
       "      <td>NaN</td>\n",
       "      <td>NaN</td>\n",
       "      <td>1796</td>\n",
       "      <td>12,5</td>\n",
       "    </tr>\n",
       "  </tbody>\n",
       "</table>\n",
       "</div>"
      ],
      "text/plain": [
       "         Parameter  Unnamed: 1  \\\n",
       "0               NaN        NaN   \n",
       "1             SL.NO        NaN   \n",
       "2          Priority        NaN   \n",
       "3               NaN        NaN   \n",
       "4  Final Test Limit        Min   \n",
       "\n",
       "                                                UVLO  \\\n",
       "0                              VERIFIED/NOT VERIFIED   \n",
       "1                                                  0   \n",
       "2                                               UVLO   \n",
       "3  FORCE__VBAT__3.6V\\nFORCE__SDWN__1.8V\\n\\n0xFE_0...   \n",
       "4                                                NaN   \n",
       "\n",
       "                                       VBGR_ADJ_TRIM  \\\n",
       "0                              VERIFIED/NOT VERIFIED   \n",
       "1                                                  1   \n",
       "2                                      VBGR_ADJ_TRIM   \n",
       "3  Run__Startup\\nRun__Enable_Ana_Testpoint\\n\\n0xF...   \n",
       "4                                               1793   \n",
       "\n",
       "                                  OUT_TEST_FRO_VVCO   \\\n",
       "0                              VERIFIED/NOT VERIFIED   \n",
       "1                                                  2   \n",
       "2                                 OUT_TEST_FRO_VVCO    \n",
       "3  Run__Startup                                  ...   \n",
       "4                                                NaN   \n",
       "\n",
       "                                   OUT_TEST_FRO_IMSB  \\\n",
       "0                              VERIFIED/NOT VERIFIED   \n",
       "1                                                  3   \n",
       "2                                  OUT_TEST_FRO_IMSB   \n",
       "3  Run__Startup                                  ...   \n",
       "4                                                NaN   \n",
       "\n",
       "                                                TSDN  \\\n",
       "0                              VERIFIED/NOT VERIFIED   \n",
       "1                                                  4   \n",
       "2                                               TSDN   \n",
       "3  Run__Startup\\nRun__Enable_Ana_Testpoint\\n\\n0xF...   \n",
       "4                                                NaN   \n",
       "\n",
       "                                             REF_LDO  \\\n",
       "0                              VERIFIED/NOT VERIFIED   \n",
       "1                                                  5   \n",
       "2                                            REF_LDO   \n",
       "3  Run_Startup\\nRun__Enable_Ana_Testpoint\\n\\n0xFE...   \n",
       "4                                               1796   \n",
       "\n",
       "                                           FRO_CLOCK  \n",
       "0                              VERIFIED/NOT VERIFIED  \n",
       "1                                                  5  \n",
       "2                                          FRO_CLOCK  \n",
       "3  Run__Startup\\n\\n0xFE_0x01 \"Select page 1\"\\n0x0...  \n",
       "4                                               12,5  "
      ]
     },
     "execution_count": 252,
     "metadata": {},
     "output_type": "execute_result"
    }
   ],
   "source": [
    "data.head()"
   ]
  },
  {
   "cell_type": "code",
   "execution_count": 253,
   "metadata": {},
   "outputs": [],
   "source": [
    "instructions = data['UVLO'].loc[3].split('\\n')"
   ]
  },
  {
   "cell_type": "code",
   "execution_count": 254,
   "metadata": {},
   "outputs": [],
   "source": [
    "from dft_syntaxparser import Parser\n",
    "parser = Parser()"
   ]
  },
  {
   "cell_type": "code",
   "execution_count": 255,
   "metadata": {},
   "outputs": [],
   "source": [
    "procedures = pd.read_excel('IVM6311_Testing_scripts.xlsx', sheet_name='Procedure')"
   ]
  },
  {
   "cell_type": "code",
   "execution_count": 256,
   "metadata": {},
   "outputs": [
    {
     "data": {
      "text/plain": [
       "Index(['Startup', 'Enable_Ana_Testpoint', 'DACPA_tourn_on_wo_calibration',\n",
       "       'Procedura_Maurizio', 'Boost_Test_Default', 'DAC-PA TDM_768_IN',\n",
       "       'DAC-PA TDM_768_IN_and_Path_generator', 'DAC-PA PDM_3MHz_IN',\n",
       "       'DAC-PA PDM_6MHz_IN', 'DAC-PA PDM_12MHz_IN',\n",
       "       'DAC-PA ANALOG_IN_DC_COUPLED', 'DAC-PA ANALOG_IN_AC_COUPLED',\n",
       "       'BOOST_FORCE_VBSO19V'],\n",
       "      dtype='object')"
      ]
     },
     "execution_count": 256,
     "metadata": {},
     "output_type": "execute_result"
    }
   ],
   "source": [
    "procedures.columns"
   ]
  },
  {
   "cell_type": "code",
   "execution_count": 257,
   "metadata": {},
   "outputs": [
    {
     "name": "stdout",
     "output_type": "stream",
     "text": [
      " data written 0xf\n"
     ]
    }
   ],
   "source": [
    "from SwitchMatrix.mcp2221 import MCP2221\n",
    "from SwitchMatrix.mcp2317 import MCP2317\n",
    "mcp = MCP2221()\n",
    "mcp2317 = MCP2317(mcp=mcp)\n",
    "slave_address = 0x6c\n",
    "def write_device(data:{}):\n",
    "    device_data = mcp.mcpRead(SlaveAddress=slave_address,data=[int(data.get('RegAddr'),16)])[0]\n",
    "    # print(f'Read data {hex(device_data)} ')\n",
    "    bit_width = 2**(data.get('MSB') - data.get('LSB')+1)\n",
    "    # print(bit_width)\n",
    "    if int(data.get('Data'),16) < bit_width :\n",
    "        mask = ~((bit_width-1) << data.get('LSB'))\n",
    "        # print(f'mask {hex(256+mask)}')\n",
    "        device_data = (device_data & mask) | ((int(data.get('Data'),16)) << data.get('LSB'))\n",
    "        # print(f'Data write {hex(device_data)}')\n",
    "        mcp.mcpWrite(SlaveAddress=slave_address, data=[int(data.get('RegAddr'),16),device_data])\n",
    "        written_data = mcp.mcpRead(SlaveAddress=slave_address,data=[int(data.get('RegAddr'),16)])[0]\n",
    "        print(f' data written {hex(written_data)}')\n",
    "    else:\n",
    "        print(f'Data is outof width ')\n",
    "write_device({'RegAddr': '0x00', 'MSB': 7, 'LSB': 0, 'Data': '0xF'})"
   ]
  },
  {
   "cell_type": "code",
   "execution_count": 258,
   "metadata": {},
   "outputs": [
    {
     "name": "stdout",
     "output_type": "stream",
     "text": [
      "{'RegAddr': '0xfe', 'MSB': 7, 'LSB': 0, 'Data': '0x0'}\n",
      " data written 0x0\n",
      "{'RegAddr': '0x0', 'MSB': 7, 'LSB': 0, 'Data': '0xf'}\n",
      " data written 0xf\n",
      "{'RegAddr': '0xfe', 'MSB': 7, 'LSB': 0, 'Data': '0x1'}\n",
      " data written 0x1\n",
      "{'RegAddr': '0x2f', 'MSB': 7, 'LSB': 0, 'Data': '0xaa'}\n",
      " data written 0x0\n",
      "{'RegAddr': '0x2f', 'MSB': 7, 'LSB': 0, 'Data': '0xbb'}\n",
      " data written 0x1\n"
     ]
    }
   ],
   "source": [
    "import re \n",
    "def execute_startup():\n",
    "    startup_procedure = procedures['Startup'].loc[0].split('\\n')\n",
    "    for instruction in startup_procedure:\n",
    "        instruction = instruction.lower()\n",
    "        if re.match('0x',instruction):\n",
    "            reg_data = parser.extract_RegisterAddress__Instruction(instruction) \n",
    "            print(reg_data)\n",
    "            write_device(reg_data)\n",
    "        if re.match('Force__SDWN__1.8V'.lower(), instruction):\n",
    "            input('Force 1.8V on SDWN')\n",
    "            \n",
    "execute_startup()"
   ]
  },
  {
   "cell_type": "code",
   "execution_count": 259,
   "metadata": {},
   "outputs": [
    {
     "name": "stdout",
     "output_type": "stream",
     "text": [
      "{'RegAddr': '0xfe', 'MSB': 7, 'LSB': 0, 'Data': '0x1'}\n",
      " data written 0x1\n",
      "{'RegAddr': '0xf', 'MSB': 7, 'LSB': 0, 'Data': '0x88'}\n",
      " data written 0x88\n",
      "{'RegAddr': '0x10', 'MSB': 7, 'LSB': 0, 'Data': '0x8'}\n",
      " data written 0x8\n",
      "{'RegAddr': '0x19', 'MSB': 7, 'LSB': 0, 'Data': '0x81'}\n",
      " data written 0x81\n",
      "{'RegAddr': '0x1a', 'MSB': 7, 'LSB': 0, 'Data': '0x0'}\n",
      " data written 0x0\n"
     ]
    }
   ],
   "source": [
    "def execute_Enable_Ana_Testpoint():\n",
    "    startup_procedure = procedures['Enable_Ana_Testpoint'].loc[0].split('\\n')\n",
    "    for instruction in startup_procedure:\n",
    "        instruction = instruction.lower()\n",
    "        if re.match('0x',instruction):\n",
    "            print(parser.extract_RegisterAddress__Instruction(instruction)) \n",
    "            reg_data = parser.extract_RegisterAddress__Instruction(instruction) \n",
    "            write_device(reg_data)\n",
    "        if re.match('FORCE__SDWN__OPEN'.lower(), instruction):\n",
    "            input('Force SDWN OPEN')\n",
    "\n",
    "execute_Enable_Ana_Testpoint()"
   ]
  },
  {
   "cell_type": "code",
   "execution_count": 260,
   "metadata": {},
   "outputs": [
    {
     "name": "stdout",
     "output_type": "stream",
     "text": [
      "Startup Procedure\n",
      "{'RegAddr': '0xfe', 'MSB': 7, 'LSB': 0, 'Data': '0x0'}\n",
      " data written 0x0\n",
      "{'RegAddr': '0x0', 'MSB': 7, 'LSB': 0, 'Data': '0xf'}\n",
      " data written 0xf\n",
      "{'RegAddr': '0xfe', 'MSB': 7, 'LSB': 0, 'Data': '0x1'}\n",
      " data written 0x1\n",
      "{'RegAddr': '0x2f', 'MSB': 7, 'LSB': 0, 'Data': '0xaa'}\n",
      " data written 0x1\n",
      "{'RegAddr': '0x2f', 'MSB': 7, 'LSB': 0, 'Data': '0xbb'}\n",
      " data written 0x1\n",
      "execute_Enable_Ana_Testpoint Procedure\n",
      "{'RegAddr': '0xfe', 'MSB': 7, 'LSB': 0, 'Data': '0x1'}\n",
      " data written 0x1\n",
      "{'RegAddr': '0xf', 'MSB': 7, 'LSB': 0, 'Data': '0x88'}\n",
      " data written 0x88\n",
      "{'RegAddr': '0x10', 'MSB': 7, 'LSB': 0, 'Data': '0x8'}\n",
      " data written 0x8\n",
      "{'RegAddr': '0x19', 'MSB': 7, 'LSB': 0, 'Data': '0x81'}\n",
      " data written 0x81\n",
      "{'RegAddr': '0x1a', 'MSB': 7, 'LSB': 0, 'Data': '0x0'}\n",
      " data written 0x0\n",
      " data written 0x1\n",
      " data written 0x1\n",
      "{'Signal': 'sdwn', 'Unit': 'voltage'}\n",
      "{'RegAddr': '0xb0', 'MSB': '0x4', 'LSB': '0x7', 'Data': None}\n",
      "execute min error function\n",
      " data written 0x0\n"
     ]
    }
   ],
   "source": [
    "import re \n",
    "instructions = data['VBGR_ADJ_TRIM'].loc[3].split('\\n')\n",
    "for instruction in instructions:\n",
    "    instruction = instruction.lower()\n",
    "    # parse the instructions\n",
    "    if re.match('run',instruction):\n",
    "        if re.findall('startup', instruction):\n",
    "           print('Startup Procedure')\n",
    "           execute_startup()\n",
    "        if re.findall('enable_ana_testpoint', instruction):\n",
    "            print('execute_Enable_Ana_Testpoint Procedure')\n",
    "            execute_Enable_Ana_Testpoint()\n",
    "    if re.match('0x',instruction):\n",
    "        reg_data = parser.extract_RegisterAddress__Instruction(instruction)\n",
    "        write_device(reg_data)\n",
    "    if re.match('measure',instruction):\n",
    "        print(parser.extract_Measure__Instruction(instruction)) \n",
    "        input('measure >')\n",
    "    if re.match('trim',instruction):\n",
    "        print(parser.extract_Trim__Instruction(instruction)) \n",
    "    if re.match('calculate__minerror',instruction):\n",
    "        print('execute min error function')"
   ]
  }
 ],
 "metadata": {
  "kernelspec": {
   "display_name": "env",
   "language": "python",
   "name": "python3"
  },
  "language_info": {
   "codemirror_mode": {
    "name": "ipython",
    "version": 3
   },
   "file_extension": ".py",
   "mimetype": "text/x-python",
   "name": "python",
   "nbconvert_exporter": "python",
   "pygments_lexer": "ipython3",
   "version": "3.11.5"
  }
 },
 "nbformat": 4,
 "nbformat_minor": 2
}
